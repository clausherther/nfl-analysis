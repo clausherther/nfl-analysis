{
 "cells": [
  {
   "cell_type": "code",
   "execution_count": 1,
   "metadata": {},
   "outputs": [],
   "source": [
    "import os\n",
    "\n",
    "import numpy as np\n",
    "import pandas as pd\n",
    "\n",
    "import matplotlib.pylab as plt\n",
    "import seaborn as sns\n",
    "sns.set(style=\"whitegrid\")\n",
    "\n",
    "%load_ext watermark\n",
    "%matplotlib inline"
   ]
  },
  {
   "cell_type": "code",
   "execution_count": 2,
   "metadata": {},
   "outputs": [
    {
     "name": "stdout",
     "output_type": "stream",
     "text": [
      "pandas           0.25.2\n",
      "matplotlib.pylab 1.17.3\n",
      "seaborn          0.9.0\n",
      "numpy            1.17.3\n",
      "last updated: 2019-12-06 09:56:32 PST \n",
      "\n",
      "CPython 3.7.4\n",
      "IPython 7.9.0\n",
      "Git repo: git@github.com:clausherther/nfl-analysis.git\n"
     ]
    }
   ],
   "source": [
    "%watermark -v -d -t -z -u -r -iv"
   ]
  },
  {
   "cell_type": "code",
   "execution_count": 9,
   "metadata": {},
   "outputs": [],
   "source": [
    "df = (pd\n",
    "      .read_csv(\"data/fourth_downs.csv\")\n",
    "      .query(\"is_field_goal_attempt == False\")\n",
    "     )\n",
    "\n",
    "df.rename(columns={\"off_team_code\": \"team_code\"}, inplace=True)\n",
    "df[\"game_date\"] = pd.to_datetime(df[\"game_date\"])\n",
    "\n",
    "# We add game weeks, which we'll start on Tuesdays\n",
    "df[\"game_week\"] = df[\"game_date\"] - pd.offsets.Week(weekday=1)\n",
    "df[\"game_week_code\"] = df[\"game_week\"].dt.strftime(\"%Y%m%d\")\n",
    "\n",
    "# Then we add numbered weeks for the season\n",
    "df[\"season_week\"] = df.assign(season_week=df.groupby([\"season\"])[\"game_week\"].rank(method=\"dense\", ascending=True))[\"season_week\"].astype(int)\n",
    "\n",
    "df[\"season_code\"] = \"R\" + df[\"season\"].astype(str)\n",
    "\n",
    "# We add some simple metrics columns so we can sum() more easily later when aggregating\n",
    "df[\"fourth_downs\"] = 1\n",
    "df[\"fourth_down_attempts\"] = df[\"is_fourth_down_attempt\"].astype(int)\n",
    "df[\"fourth_down_conversions\"] = df[\"is_fourth_down_converted\"].astype(int)\n",
    "\n",
    "# Let's save that for later\n",
    "df.to_hdf(\"data/fourth_downs_attempts.hd5\", \"fourth_downs_attempts\")"
   ]
  },
  {
   "cell_type": "code",
   "execution_count": null,
   "metadata": {},
   "outputs": [],
   "source": []
  }
 ],
 "metadata": {
  "kernelspec": {
   "display_name": "Python 3",
   "language": "python",
   "name": "python3"
  },
  "language_info": {
   "codemirror_mode": {
    "name": "ipython",
    "version": 3
   },
   "file_extension": ".py",
   "mimetype": "text/x-python",
   "name": "python",
   "nbconvert_exporter": "python",
   "pygments_lexer": "ipython3",
   "version": "3.7.4"
  }
 },
 "nbformat": 4,
 "nbformat_minor": 4
}
