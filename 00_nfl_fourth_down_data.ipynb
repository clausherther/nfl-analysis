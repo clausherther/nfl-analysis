{
 "cells": [
  {
   "cell_type": "code",
   "execution_count": 6,
   "metadata": {},
   "outputs": [],
   "source": [
    "import os\n",
    "\n",
    "import numpy as np\n",
    "import pandas as pd\n",
    "\n",
    "import matplotlib.pylab as plt\n",
    "import seaborn as sns\n",
    "sns.set(style=\"whitegrid\")\n",
    "\n",
    "%load_ext watermark\n",
    "%matplotlib inline"
   ]
  },
  {
   "cell_type": "code",
   "execution_count": 10,
   "metadata": {},
   "outputs": [
    {
     "name": "stdout",
     "output_type": "stream",
     "text": [
      "Collecting tables\n",
      "  Downloading tables-3.6.1-cp38-cp38-macosx_10_9_x86_64.whl (4.3 MB)\n",
      "\u001b[K     |████████████████████████████████| 4.3 MB 1.6 MB/s eta 0:00:01\n",
      "\u001b[?25hRequirement already satisfied: numpy>=1.9.3 in /Users/claus/.pyenv/versions/3.8.1/envs/dev/lib/python3.8/site-packages (from tables) (1.18.1)\n",
      "Collecting numexpr>=2.6.2\n",
      "  Downloading numexpr-2.7.1-cp38-cp38-macosx_10_9_x86_64.whl (101 kB)\n",
      "\u001b[K     |████████████████████████████████| 101 kB 19.2 MB/s ta 0:00:01\n",
      "\u001b[?25hInstalling collected packages: numexpr, tables\n",
      "Successfully installed numexpr-2.7.1 tables-3.6.1\n"
     ]
    }
   ],
   "source": [
    "!pip install tables"
   ]
  },
  {
   "cell_type": "code",
   "execution_count": 11,
   "metadata": {},
   "outputs": [
    {
     "name": "stdout",
     "output_type": "stream",
     "text": [
      "matplotlib.pylab 1.18.1\n",
      "numpy            1.18.1\n",
      "pandas           1.0.1\n",
      "seaborn          0.10.0\n",
      "last updated: 2020-02-25 20:44:34 PST \n",
      "\n",
      "CPython 3.8.1\n",
      "IPython 7.12.0\n",
      "Git repo: git@github.com:clausherther/nfl-analysis.git\n"
     ]
    }
   ],
   "source": [
    "%watermark -v -d -t -z -u -r -iv"
   ]
  },
  {
   "cell_type": "code",
   "execution_count": 12,
   "metadata": {},
   "outputs": [],
   "source": [
    "df = (pd\n",
    "      .read_csv(\"data/fourth_downs.csv\")\n",
    "      .query(\"is_field_goal_attempt == False\")\n",
    "     )\n",
    "\n",
    "df.rename(columns={\"off_team_code\": \"team_code\"}, inplace=True)\n",
    "df[\"game_date\"] = pd.to_datetime(df[\"game_date\"])\n",
    "\n",
    "# We add game weeks, which we'll start on Tuesdays\n",
    "df[\"game_week\"] = df[\"game_date\"] - pd.offsets.Week(weekday=1)\n",
    "df[\"game_week_code\"] = df[\"game_week\"].dt.strftime(\"%Y%m%d\")\n",
    "\n",
    "# Then we add numbered weeks for the season\n",
    "df[\"season_week\"] = df.assign(season_week=df.groupby([\"season\"])[\"game_week\"].rank(method=\"dense\", ascending=True))[\"season_week\"].astype(int)\n",
    "\n",
    "df[\"season_code\"] = \"R\" + df[\"season\"].astype(str)\n",
    "\n",
    "# We add some simple metrics columns so we can sum() more easily later when aggregating\n",
    "df[\"fourth_downs\"] = 1\n",
    "df[\"fourth_down_attempts\"] = df[\"is_fourth_down_attempt\"].astype(int)\n",
    "df[\"fourth_down_conversions\"] = df[\"is_fourth_down_converted\"].astype(int)\n",
    "\n",
    "# Let's save that for later\n",
    "df.to_hdf(\"data/fourth_downs_attempts.hd5\", \"fourth_downs_attempts\")"
   ]
  },
  {
   "cell_type": "code",
   "execution_count": null,
   "metadata": {},
   "outputs": [],
   "source": []
  }
 ],
 "metadata": {
  "kernelspec": {
   "display_name": "Python 3",
   "language": "python",
   "name": "python3"
  },
  "language_info": {
   "codemirror_mode": {
    "name": "ipython",
    "version": 3
   },
   "file_extension": ".py",
   "mimetype": "text/x-python",
   "name": "python",
   "nbconvert_exporter": "python",
   "pygments_lexer": "ipython3",
   "version": "3.8.1"
  }
 },
 "nbformat": 4,
 "nbformat_minor": 4
}
