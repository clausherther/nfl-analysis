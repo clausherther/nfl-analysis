{
 "cells": [
  {
   "cell_type": "code",
   "execution_count": 17,
   "metadata": {},
   "outputs": [
    {
     "name": "stdout",
     "output_type": "stream",
     "text": [
      "The watermark extension is already loaded. To reload it, use:\n",
      "  %reload_ext watermark\n"
     ]
    }
   ],
   "source": [
    "import numpy as np\n",
    "import pandas as pd\n",
    "import scipy.stats as stats\n",
    "\n",
    "from sklearn import preprocessing\n",
    "from sklearn.linear_model import LogisticRegression\n",
    "from sklearn.preprocessing import OneHotEncoder\n",
    "from sklearn import metrics\n",
    "\n",
    "import pymc3 as pm\n",
    "import theano.tensor as tt\n",
    "\n",
    "from matplotlib import pylab as plt\n",
    "import seaborn as sns\n",
    "\n",
    "plt.style.use(\"bmh\")\n",
    "\n",
    "import arviz as az\n",
    "\n",
    "%load_ext watermark\n",
    "%matplotlib inline"
   ]
  },
  {
   "cell_type": "code",
   "execution_count": 2,
   "metadata": {},
   "outputs": [
    {
     "name": "stdout",
     "output_type": "stream",
     "text": [
      "sklearn          0.22\n",
      "pandas           0.25.2\n",
      "numpy            1.17.3\n",
      "theano           1.0.4\n",
      "matplotlib.pylab 1.17.3\n",
      "seaborn          0.9.0\n",
      "scipy            1.3.1\n",
      "pymc3            3.8\n",
      "arviz            0.6.0\n",
      "last updated: 2019-12-27 10:15:34 PST \n",
      "\n",
      "CPython 3.7.4\n",
      "IPython 7.9.0\n",
      "Git repo: git@github.com:clausherther/nfl-analysis.git\n"
     ]
    }
   ],
   "source": [
    "%watermark -v -d -t -z -u -r -iv"
   ]
  },
  {
   "cell_type": "code",
   "execution_count": 3,
   "metadata": {},
   "outputs": [],
   "source": [
    "SEED = 42"
   ]
  },
  {
   "cell_type": "code",
   "execution_count": 4,
   "metadata": {},
   "outputs": [],
   "source": [
    "df = pd.read_hdf(\"data/field_goals.hd5\", \"field_goals\")"
   ]
  },
  {
   "cell_type": "code",
   "execution_count": 5,
   "metadata": {},
   "outputs": [
    {
     "data": {
      "text/plain": [
       "Index(['game_date', 'season_nbr', 'season_type_code', 'season_code', 'game_id',\n",
       "       'play_id', 'quarter', 'home_team_code', 'away_team_code',\n",
       "       'off_team_code', 'def_team_code', 'down', 'play_type', 'yards_to_go',\n",
       "       'yardline_100', 'kicker_player_id', 'kicker_player_name',\n",
       "       'is_within_goal_line', 'field_goal_result', 'is_field_goal_success',\n",
       "       'field_goals', 'successful_field_goals'],\n",
       "      dtype='object')"
      ]
     },
     "execution_count": 5,
     "metadata": {},
     "output_type": "execute_result"
    }
   ],
   "source": [
    "df.columns"
   ]
  },
  {
   "cell_type": "markdown",
   "metadata": {},
   "source": [
    "Baseline Field Goal % is:"
   ]
  },
  {
   "cell_type": "code",
   "execution_count": 6,
   "metadata": {},
   "outputs": [
    {
     "data": {
      "text/plain": [
       "0.8338611090654687"
      ]
     },
     "execution_count": 6,
     "metadata": {},
     "output_type": "execute_result"
    }
   ],
   "source": [
    "df[\"successful_field_goals\"].sum()/df[\"field_goals\"].sum()"
   ]
  },
  {
   "cell_type": "code",
   "execution_count": null,
   "metadata": {},
   "outputs": [],
   "source": []
  },
  {
   "cell_type": "code",
   "execution_count": 7,
   "metadata": {},
   "outputs": [],
   "source": [
    "def scale(x):\n",
    "    return (x-x.mean())"
   ]
  },
  {
   "cell_type": "code",
   "execution_count": 254,
   "metadata": {},
   "outputs": [],
   "source": [
    "yards_cutoff = 47\n",
    "df_train = df.query(f\"yardline_100 < {yards_cutoff}\").copy()[\n",
    "    [\"yardline_100\", \"yards_to_go\", \"quarter\", \"season_type_code\", \"is_field_goal_success\", \"field_goals\", \"successful_field_goals\"]\n",
    "]\n",
    "df_train.loc[:, \"yardline_100_2\"] = np.power(df_train[\"yardline_100\"], 2)\n",
    "df_train.loc[:, \"is_fourth_quarter\"] = df_train[\"quarter\"].apply(lambda x: True if x == 4 else False)\n",
    "df_train = pd.get_dummies(df_train, columns=[\"season_type_code\"], )\n",
    "\n",
    "feature_columns = [\"yardline_100\"]#, \"yards_to_go\", \"is_fourth_quarter\", \"season_type_code_POST\", \"season_type_code_PRE\"]\n",
    "\n",
    "X = df_train[feature_columns].values\n",
    "\n",
    "y = df_train[\"successful_field_goals\"].values"
   ]
  },
  {
   "cell_type": "code",
   "execution_count": 255,
   "metadata": {},
   "outputs": [
    {
     "data": {
      "text/html": [
       "<div>\n",
       "<style scoped>\n",
       "    .dataframe tbody tr th:only-of-type {\n",
       "        vertical-align: middle;\n",
       "    }\n",
       "\n",
       "    .dataframe tbody tr th {\n",
       "        vertical-align: top;\n",
       "    }\n",
       "\n",
       "    .dataframe thead th {\n",
       "        text-align: right;\n",
       "    }\n",
       "</style>\n",
       "<table border=\"1\" class=\"dataframe\">\n",
       "  <thead>\n",
       "    <tr style=\"text-align: right;\">\n",
       "      <th></th>\n",
       "      <th>yardline_100</th>\n",
       "      <th>yards_to_go</th>\n",
       "      <th>quarter</th>\n",
       "      <th>is_field_goal_success</th>\n",
       "      <th>field_goals</th>\n",
       "      <th>successful_field_goals</th>\n",
       "      <th>yardline_100_2</th>\n",
       "      <th>is_fourth_quarter</th>\n",
       "      <th>season_type_code_POST</th>\n",
       "      <th>season_type_code_PRE</th>\n",
       "      <th>season_type_code_REG</th>\n",
       "    </tr>\n",
       "  </thead>\n",
       "  <tbody>\n",
       "    <tr>\n",
       "      <th>0</th>\n",
       "      <td>2</td>\n",
       "      <td>2</td>\n",
       "      <td>2</td>\n",
       "      <td>True</td>\n",
       "      <td>1</td>\n",
       "      <td>1</td>\n",
       "      <td>4</td>\n",
       "      <td>False</td>\n",
       "      <td>0</td>\n",
       "      <td>1</td>\n",
       "      <td>0</td>\n",
       "    </tr>\n",
       "    <tr>\n",
       "      <th>1</th>\n",
       "      <td>29</td>\n",
       "      <td>7</td>\n",
       "      <td>2</td>\n",
       "      <td>True</td>\n",
       "      <td>1</td>\n",
       "      <td>1</td>\n",
       "      <td>841</td>\n",
       "      <td>False</td>\n",
       "      <td>0</td>\n",
       "      <td>1</td>\n",
       "      <td>0</td>\n",
       "    </tr>\n",
       "    <tr>\n",
       "      <th>2</th>\n",
       "      <td>34</td>\n",
       "      <td>9</td>\n",
       "      <td>3</td>\n",
       "      <td>True</td>\n",
       "      <td>1</td>\n",
       "      <td>1</td>\n",
       "      <td>1156</td>\n",
       "      <td>False</td>\n",
       "      <td>0</td>\n",
       "      <td>1</td>\n",
       "      <td>0</td>\n",
       "    </tr>\n",
       "    <tr>\n",
       "      <th>3</th>\n",
       "      <td>32</td>\n",
       "      <td>3</td>\n",
       "      <td>2</td>\n",
       "      <td>True</td>\n",
       "      <td>1</td>\n",
       "      <td>1</td>\n",
       "      <td>1024</td>\n",
       "      <td>False</td>\n",
       "      <td>0</td>\n",
       "      <td>1</td>\n",
       "      <td>0</td>\n",
       "    </tr>\n",
       "    <tr>\n",
       "      <th>4</th>\n",
       "      <td>11</td>\n",
       "      <td>10</td>\n",
       "      <td>2</td>\n",
       "      <td>True</td>\n",
       "      <td>1</td>\n",
       "      <td>1</td>\n",
       "      <td>121</td>\n",
       "      <td>False</td>\n",
       "      <td>0</td>\n",
       "      <td>1</td>\n",
       "      <td>0</td>\n",
       "    </tr>\n",
       "    <tr>\n",
       "      <th>...</th>\n",
       "      <td>...</td>\n",
       "      <td>...</td>\n",
       "      <td>...</td>\n",
       "      <td>...</td>\n",
       "      <td>...</td>\n",
       "      <td>...</td>\n",
       "      <td>...</td>\n",
       "      <td>...</td>\n",
       "      <td>...</td>\n",
       "      <td>...</td>\n",
       "      <td>...</td>\n",
       "    </tr>\n",
       "    <tr>\n",
       "      <th>13574</th>\n",
       "      <td>10</td>\n",
       "      <td>9</td>\n",
       "      <td>1</td>\n",
       "      <td>True</td>\n",
       "      <td>1</td>\n",
       "      <td>1</td>\n",
       "      <td>100</td>\n",
       "      <td>False</td>\n",
       "      <td>0</td>\n",
       "      <td>0</td>\n",
       "      <td>1</td>\n",
       "    </tr>\n",
       "    <tr>\n",
       "      <th>13575</th>\n",
       "      <td>6</td>\n",
       "      <td>6</td>\n",
       "      <td>2</td>\n",
       "      <td>True</td>\n",
       "      <td>1</td>\n",
       "      <td>1</td>\n",
       "      <td>36</td>\n",
       "      <td>False</td>\n",
       "      <td>0</td>\n",
       "      <td>0</td>\n",
       "      <td>1</td>\n",
       "    </tr>\n",
       "    <tr>\n",
       "      <th>13576</th>\n",
       "      <td>14</td>\n",
       "      <td>12</td>\n",
       "      <td>2</td>\n",
       "      <td>True</td>\n",
       "      <td>1</td>\n",
       "      <td>1</td>\n",
       "      <td>196</td>\n",
       "      <td>False</td>\n",
       "      <td>0</td>\n",
       "      <td>0</td>\n",
       "      <td>1</td>\n",
       "    </tr>\n",
       "    <tr>\n",
       "      <th>13577</th>\n",
       "      <td>28</td>\n",
       "      <td>16</td>\n",
       "      <td>2</td>\n",
       "      <td>True</td>\n",
       "      <td>1</td>\n",
       "      <td>1</td>\n",
       "      <td>784</td>\n",
       "      <td>False</td>\n",
       "      <td>0</td>\n",
       "      <td>0</td>\n",
       "      <td>1</td>\n",
       "    </tr>\n",
       "    <tr>\n",
       "      <th>13578</th>\n",
       "      <td>16</td>\n",
       "      <td>13</td>\n",
       "      <td>4</td>\n",
       "      <td>True</td>\n",
       "      <td>1</td>\n",
       "      <td>1</td>\n",
       "      <td>256</td>\n",
       "      <td>True</td>\n",
       "      <td>0</td>\n",
       "      <td>0</td>\n",
       "      <td>1</td>\n",
       "    </tr>\n",
       "  </tbody>\n",
       "</table>\n",
       "<p>13565 rows × 11 columns</p>\n",
       "</div>"
      ],
      "text/plain": [
       "       yardline_100  yards_to_go  quarter  is_field_goal_success  field_goals  \\\n",
       "0                 2            2        2                   True            1   \n",
       "1                29            7        2                   True            1   \n",
       "2                34            9        3                   True            1   \n",
       "3                32            3        2                   True            1   \n",
       "4                11           10        2                   True            1   \n",
       "...             ...          ...      ...                    ...          ...   \n",
       "13574            10            9        1                   True            1   \n",
       "13575             6            6        2                   True            1   \n",
       "13576            14           12        2                   True            1   \n",
       "13577            28           16        2                   True            1   \n",
       "13578            16           13        4                   True            1   \n",
       "\n",
       "       successful_field_goals  yardline_100_2  is_fourth_quarter  \\\n",
       "0                           1               4              False   \n",
       "1                           1             841              False   \n",
       "2                           1            1156              False   \n",
       "3                           1            1024              False   \n",
       "4                           1             121              False   \n",
       "...                       ...             ...                ...   \n",
       "13574                       1             100              False   \n",
       "13575                       1              36              False   \n",
       "13576                       1             196              False   \n",
       "13577                       1             784              False   \n",
       "13578                       1             256               True   \n",
       "\n",
       "       season_type_code_POST  season_type_code_PRE  season_type_code_REG  \n",
       "0                          0                     1                     0  \n",
       "1                          0                     1                     0  \n",
       "2                          0                     1                     0  \n",
       "3                          0                     1                     0  \n",
       "4                          0                     1                     0  \n",
       "...                      ...                   ...                   ...  \n",
       "13574                      0                     0                     1  \n",
       "13575                      0                     0                     1  \n",
       "13576                      0                     0                     1  \n",
       "13577                      0                     0                     1  \n",
       "13578                      0                     0                     1  \n",
       "\n",
       "[13565 rows x 11 columns]"
      ]
     },
     "execution_count": 255,
     "metadata": {},
     "output_type": "execute_result"
    }
   ],
   "source": [
    "df_train"
   ]
  },
  {
   "cell_type": "code",
   "execution_count": 256,
   "metadata": {},
   "outputs": [
    {
     "data": {
      "text/plain": [
       "((13565, 1), (13565,))"
      ]
     },
     "execution_count": 256,
     "metadata": {},
     "output_type": "execute_result"
    }
   ],
   "source": [
    "X.shape, y.shape"
   ]
  },
  {
   "cell_type": "code",
   "execution_count": 257,
   "metadata": {},
   "outputs": [],
   "source": [
    "from sklearn.pipeline import Pipeline, make_pipeline\n",
    "from sklearn.preprocessing import PolynomialFeatures"
   ]
  },
  {
   "cell_type": "code",
   "execution_count": 258,
   "metadata": {},
   "outputs": [],
   "source": [
    "poly = PolynomialFeatures(1, include_bias=False)"
   ]
  },
  {
   "cell_type": "code",
   "execution_count": 259,
   "metadata": {},
   "outputs": [],
   "source": [
    "clf = LogisticRegression(random_state=SEED).fit(X, y)"
   ]
  },
  {
   "cell_type": "code",
   "execution_count": 260,
   "metadata": {},
   "outputs": [],
   "source": [
    "pipeline = make_pipeline(poly, clf)"
   ]
  },
  {
   "cell_type": "code",
   "execution_count": 261,
   "metadata": {},
   "outputs": [
    {
     "data": {
      "text/plain": [
       "Pipeline(memory=None,\n",
       "         steps=[('polynomialfeatures',\n",
       "                 PolynomialFeatures(degree=1, include_bias=False,\n",
       "                                    interaction_only=False, order='C')),\n",
       "                ('logisticregression',\n",
       "                 LogisticRegression(C=1.0, class_weight=None, dual=False,\n",
       "                                    fit_intercept=True, intercept_scaling=1,\n",
       "                                    l1_ratio=None, max_iter=100,\n",
       "                                    multi_class='auto', n_jobs=None,\n",
       "                                    penalty='l2', random_state=42,\n",
       "                                    solver='lbfgs', tol=0.0001, verbose=0,\n",
       "                                    warm_start=False))],\n",
       "         verbose=False)"
      ]
     },
     "execution_count": 261,
     "metadata": {},
     "output_type": "execute_result"
    }
   ],
   "source": [
    "pipeline.fit(X, y)"
   ]
  },
  {
   "cell_type": "code",
   "execution_count": 262,
   "metadata": {},
   "outputs": [
    {
     "data": {
      "text/plain": [
       "(array([4.00638754]), array([[-0.10327504]]))"
      ]
     },
     "execution_count": 262,
     "metadata": {},
     "output_type": "execute_result"
    }
   ],
   "source": [
    "clf.intercept_, clf.coef_"
   ]
  },
  {
   "cell_type": "code",
   "execution_count": 263,
   "metadata": {},
   "outputs": [
    {
     "data": {
      "text/plain": [
       "0.8371544415775893"
      ]
     },
     "execution_count": 263,
     "metadata": {},
     "output_type": "execute_result"
    }
   ],
   "source": [
    "pipeline.score(X, y)"
   ]
  },
  {
   "cell_type": "code",
   "execution_count": 264,
   "metadata": {},
   "outputs": [],
   "source": [
    "y_pred = pipeline.predict(X)"
   ]
  },
  {
   "cell_type": "code",
   "execution_count": 265,
   "metadata": {},
   "outputs": [
    {
     "data": {
      "text/plain": [
       "0.9834131957242904"
      ]
     },
     "execution_count": 265,
     "metadata": {},
     "output_type": "execute_result"
    }
   ],
   "source": [
    "np.sum(y_pred)/len(y_pred)"
   ]
  },
  {
   "cell_type": "code",
   "execution_count": 266,
   "metadata": {},
   "outputs": [
    {
     "data": {
      "text/plain": [
       "-0.18037063966256306"
      ]
     },
     "execution_count": 266,
     "metadata": {},
     "output_type": "execute_result"
    }
   ],
   "source": [
    "metrics.r2_score(y, y_pred)"
   ]
  },
  {
   "cell_type": "code",
   "execution_count": 267,
   "metadata": {},
   "outputs": [
    {
     "data": {
      "image/png": "[encoded data removed]",
      "text/plain": [
       "<Figure size 432x288 with 1 Axes>"
      ]
     },
     "metadata": {
      "needs_background": "light"
     },
     "output_type": "display_data"
    }
   ],
   "source": [
    "metrics.plot_roc_curve(pipeline, X, y);"
   ]
  },
  {
   "cell_type": "code",
   "execution_count": 268,
   "metadata": {},
   "outputs": [
    {
     "data": {
      "image/png": "[encoded data removed]",
      "text/plain": [
       "<Figure size 432x288 with 2 Axes>"
      ]
     },
     "metadata": {
      "needs_background": "light"
     },
     "output_type": "display_data"
    }
   ],
   "source": [
    "metrics.plot_confusion_matrix(pipeline, X, y, values_format=\":,\", normalize=\"all\");"
   ]
  },
  {
   "cell_type": "code",
   "execution_count": 223,
   "metadata": {},
   "outputs": [],
   "source": [
    "# y_pred_proba = pipeline.predict_proba(X)[:, 1]\n",
    "# threshold_list = [0.5,0.55,0.6,0.65,.7,.75,.8,.85,.9,.95]\n",
    "\n",
    "# _, axes = plt.subplots(3, 4, figsize=(18, 14))\n",
    "# axes = axes.flatten()\n",
    "# for i, t in enumerate(threshold_list):\n",
    "#     ax = axes[i]\n",
    "#     y_pred_ = np.array([1 if y > t else 0 for y in y_pred_proba])\n",
    "#     test_accuracy = metrics.accuracy_score(y, y_pred_)\n",
    "#     cfm = metrics.confusion_matrix(y, y_pred_, normalize=\"all\")\n",
    "#     sns.heatmap(cfm, cmap=\"GnBu\", annot=True, cbar=False, ax=ax)\n",
    "#     ax.set_title(f\"T: {t:.2} A: {test_accuracy:.2%}\")"
   ]
  },
  {
   "cell_type": "code",
   "execution_count": 269,
   "metadata": {},
   "outputs": [],
   "source": [
    "df_train.loc[:, \"y_pred\"] = y_pred"
   ]
  },
  {
   "cell_type": "code",
   "execution_count": 270,
   "metadata": {},
   "outputs": [
    {
     "data": {
      "text/html": [
       "<div>\n",
       "<style scoped>\n",
       "    .dataframe tbody tr th:only-of-type {\n",
       "        vertical-align: middle;\n",
       "    }\n",
       "\n",
       "    .dataframe tbody tr th {\n",
       "        vertical-align: top;\n",
       "    }\n",
       "\n",
       "    .dataframe thead th {\n",
       "        text-align: right;\n",
       "    }\n",
       "</style>\n",
       "<table border=\"1\" class=\"dataframe\">\n",
       "  <thead>\n",
       "    <tr style=\"text-align: right;\">\n",
       "      <th></th>\n",
       "      <th>yardline_100</th>\n",
       "      <th>field_goals_success_percent</th>\n",
       "    </tr>\n",
       "  </thead>\n",
       "  <tbody>\n",
       "    <tr>\n",
       "      <th>0</th>\n",
       "      <td>1</td>\n",
       "      <td>1.000000</td>\n",
       "    </tr>\n",
       "    <tr>\n",
       "      <th>1</th>\n",
       "      <td>2</td>\n",
       "      <td>0.992337</td>\n",
       "    </tr>\n",
       "    <tr>\n",
       "      <th>2</th>\n",
       "      <td>3</td>\n",
       "      <td>0.980132</td>\n",
       "    </tr>\n",
       "    <tr>\n",
       "      <th>3</th>\n",
       "      <td>4</td>\n",
       "      <td>0.981308</td>\n",
       "    </tr>\n",
       "    <tr>\n",
       "      <th>4</th>\n",
       "      <td>5</td>\n",
       "      <td>0.983914</td>\n",
       "    </tr>\n",
       "  </tbody>\n",
       "</table>\n",
       "</div>"
      ],
      "text/plain": [
       "   yardline_100  field_goals_success_percent\n",
       "0             1                     1.000000\n",
       "1             2                     0.992337\n",
       "2             3                     0.980132\n",
       "3             4                     0.981308\n",
       "4             5                     0.983914"
      ]
     },
     "execution_count": 270,
     "metadata": {},
     "output_type": "execute_result"
    }
   ],
   "source": [
    "df_grp_train = pd.DataFrame(\n",
    "    df_train\n",
    "     .groupby(\"yardline_100\")[[\"field_goals\", \"successful_field_goals\"]]\n",
    "     .sum()\n",
    "     .apply(lambda x: x[\"successful_field_goals\"]/x[\"field_goals\"], axis=1)\n",
    "     .reset_index()\n",
    ")\n",
    "df_grp_train.columns = [\"yardline_100\", \"field_goals_success_percent\"]\n",
    "df_grp_train.head()"
   ]
  },
  {
   "cell_type": "code",
   "execution_count": 271,
   "metadata": {},
   "outputs": [],
   "source": [
    "x_yards = df_grp_train[\"yardline_100\"].values\n",
    "y_probs = df_grp_train[\"field_goals_success_percent\"].values\n",
    "# x_yards, y_probs"
   ]
  },
  {
   "cell_type": "code",
   "execution_count": 272,
   "metadata": {},
   "outputs": [
    {
     "data": {
      "text/plain": [
       "(46, 2)"
      ]
     },
     "execution_count": 272,
     "metadata": {},
     "output_type": "execute_result"
    }
   ],
   "source": [
    "y_pred_prob = pipeline.predict_proba(x_yards.reshape(-1, 1))\n",
    "y_pred_prob.shape"
   ]
  },
  {
   "cell_type": "code",
   "execution_count": 1,
   "metadata": {},
   "outputs": [
    {
     "ename": "NameError",
     "evalue": "name 'plt' is not defined",
     "output_type": "error",
     "traceback": [
      "\u001b[0;31m---------------------------------------------------------------------------\u001b[0m",
      "\u001b[0;31mNameError\u001b[0m                                 Traceback (most recent call last)",
      "\u001b[0;32m<ipython-input-1-dc88a1f57030>\u001b[0m in \u001b[0;36m<module>\u001b[0;34m\u001b[0m\n\u001b[0;32m----> 1\u001b[0;31m \u001b[0m_\u001b[0m\u001b[0;34m,\u001b[0m \u001b[0max\u001b[0m \u001b[0;34m=\u001b[0m \u001b[0mplt\u001b[0m\u001b[0;34m.\u001b[0m\u001b[0msubplots\u001b[0m\u001b[0;34m(\u001b[0m\u001b[0;36m1\u001b[0m\u001b[0;34m,\u001b[0m \u001b[0;36m1\u001b[0m\u001b[0;34m,\u001b[0m \u001b[0mfigsize\u001b[0m\u001b[0;34m=\u001b[0m\u001b[0;34m(\u001b[0m\u001b[0;36m12\u001b[0m\u001b[0;34m,\u001b[0m \u001b[0;36m8\u001b[0m\u001b[0;34m)\u001b[0m\u001b[0;34m)\u001b[0m\u001b[0;34m\u001b[0m\u001b[0;34m\u001b[0m\u001b[0m\n\u001b[0m\u001b[1;32m      2\u001b[0m \u001b[0max\u001b[0m\u001b[0;34m.\u001b[0m\u001b[0mscatter\u001b[0m\u001b[0;34m(\u001b[0m\u001b[0mx_yards\u001b[0m\u001b[0;34m,\u001b[0m \u001b[0my_probs\u001b[0m\u001b[0;34m,\u001b[0m \u001b[0mlabel\u001b[0m\u001b[0;34m=\u001b[0m\u001b[0;34m\"observed\"\u001b[0m\u001b[0;34m)\u001b[0m\u001b[0;34m\u001b[0m\u001b[0;34m\u001b[0m\u001b[0m\n\u001b[1;32m      3\u001b[0m \u001b[0;31m# ax.plot(\"yardline_100\", \"field_goals_success_percent\", data=df_grp_train, label=\"prediction\", color=\"red\", linestyle=\"dashed\")\u001b[0m\u001b[0;34m\u001b[0m\u001b[0;34m\u001b[0m\u001b[0;34m\u001b[0m\u001b[0m\n\u001b[1;32m      4\u001b[0m \u001b[0max\u001b[0m\u001b[0;34m.\u001b[0m\u001b[0mplot\u001b[0m\u001b[0;34m(\u001b[0m\u001b[0mx_yards\u001b[0m\u001b[0;34m,\u001b[0m \u001b[0my_pred_prob\u001b[0m\u001b[0;34m[\u001b[0m\u001b[0;34m:\u001b[0m\u001b[0;34m,\u001b[0m \u001b[0;36m1\u001b[0m\u001b[0;34m]\u001b[0m\u001b[0;34m,\u001b[0m \u001b[0mlabel\u001b[0m\u001b[0;34m=\u001b[0m\u001b[0;34m\"prediction\"\u001b[0m\u001b[0;34m,\u001b[0m \u001b[0mcolor\u001b[0m\u001b[0;34m=\u001b[0m\u001b[0;34m\"red\"\u001b[0m\u001b[0;34m,\u001b[0m \u001b[0mlinestyle\u001b[0m\u001b[0;34m=\u001b[0m\u001b[0;34m\"dotted\"\u001b[0m\u001b[0;34m)\u001b[0m\u001b[0;34m\u001b[0m\u001b[0;34m\u001b[0m\u001b[0m\n\u001b[1;32m      5\u001b[0m \u001b[0;31m# ax = df_.plot.scatter(x=\"yardline_100\", y=\"field_goals_success_percent\", figsize=(15, 8))\u001b[0m\u001b[0;34m\u001b[0m\u001b[0;34m\u001b[0m\u001b[0;34m\u001b[0m\u001b[0m\n",
      "\u001b[0;31mNameError\u001b[0m: name 'plt' is not defined"
     ]
    }
   ],
   "source": [
    "_, ax = plt.subplots(1, 1, figsize=(12, 8))\n",
    "ax.scatter(x_yards, y_probs, label=\"observed\")\n",
    "# ax.plot(\"yardline_100\", \"field_goals_success_percent\", data=df_grp_train, label=\"prediction\", color=\"red\", linestyle=\"dashed\")\n",
    "ax.plot(x_yards, y_pred_prob[:, 1], label=\"prediction\", color=\"red\", linestyle=\"dotted\")\n",
    "# ax = df_.plot.scatter(x=\"yardline_100\", y=\"field_goals_success_percent\", figsize=(15, 8))\n",
    "\n",
    "vals = ax.get_yticks()\n",
    "_ = ax.set_yticklabels(['{:,.1%}'.format(x) for x in vals])\n",
    "# ax.set_xscale(\"logit\")\n",
    "\n",
    "# reverse the x axis\n",
    "ax.set_xlim(ax.get_xlim()[1], 0)\n",
    "# ax.set_xticks(yard_lines_5)\n",
    "# ax.set_xticklabels(yard_lines_5)\n",
    "ax.set_xlabel(\"Yards from Goal Line\")\n",
    "ax.set_ylabel(\"Field Goal Success %\")\n",
    "ax.set_title(\"Field Goal Success % by Yard Line\");"
   ]
  },
  {
   "cell_type": "code",
   "execution_count": null,
   "metadata": {},
   "outputs": [],
   "source": []
  },
  {
   "cell_type": "code",
   "execution_count": 274,
   "metadata": {},
   "outputs": [
    {
     "data": {
      "text/plain": [
       "{'chains': 3,\n",
       " 'cores': 3,\n",
       " 'draws': 4000,\n",
       " 'tune': 2000,\n",
       " 'target_accept': 0.95,\n",
       " 'random_seed': [42, 43, 44]}"
      ]
     },
     "execution_count": 274,
     "metadata": {},
     "output_type": "execute_result"
    }
   ],
   "source": [
    "n_chains = 3\n",
    "n_cores = 3\n",
    "n_draws = 4000\n",
    "n_tunes = int(n_draws/2)\n",
    "\n",
    "SEED = 42\n",
    "\n",
    "SAMPLE_KWARGS = {\n",
    "    \"chains\": n_chains,\n",
    "    \"cores\": n_cores,\n",
    "    \"draws\": n_draws,\n",
    "    \"tune\": n_tunes,\n",
    "    \"target_accept\": 0.95,\n",
    "    \"random_seed\": [SEED+s for s in np.arange(0, n_chains)]\n",
    "}\n",
    "SAMPLE_KWARGS"
   ]
  },
  {
   "cell_type": "code",
   "execution_count": null,
   "metadata": {},
   "outputs": [],
   "source": [
    "df_grp_yards.info()"
   ]
  },
  {
   "cell_type": "code",
   "execution_count": null,
   "metadata": {},
   "outputs": [],
   "source": [
    "X = df_train[\"yardline_100\"]\n",
    "y = df_train[\"successful_field_goals\"]"
   ]
  },
  {
   "cell_type": "code",
   "execution_count": null,
   "metadata": {},
   "outputs": [],
   "source": [
    "X.shape"
   ]
  },
  {
   "cell_type": "code",
   "execution_count": null,
   "metadata": {},
   "outputs": [],
   "source": [
    "with pm.Model() as logit_model_1:\n",
    "    \n",
    "    alpha = pm.Normal(\"alpha\", mu=0, sd=1)\n",
    "#     beta = pm.StudentT(\"beta\", nu=40, mu=0, sd=1)\n",
    "    beta = pm.Normal(\"beta\", mu=0, sd=1)\n",
    "\n",
    "\n",
    "    mu = alpha + beta*X\n",
    "    p = pm.Deterministic(\"p\", pm.math.sigmoid(mu))\n",
    "    bd = pm.Deterministic(\"bd\", -alpha/beta)\n",
    "    y_obs = pm.Bernoulli(\"y_obs\", p=p, observed=y)"
   ]
  },
  {
   "cell_type": "code",
   "execution_count": null,
   "metadata": {},
   "outputs": [],
   "source": [
    "pm.model_to_graphviz(logit_model_1)"
   ]
  },
  {
   "cell_type": "code",
   "execution_count": null,
   "metadata": {},
   "outputs": [],
   "source": [
    "with logit_model_1:\n",
    "    logit_trace_1 = pm.sample(**SAMPLE_KWARGS)    "
   ]
  },
  {
   "cell_type": "code",
   "execution_count": null,
   "metadata": {},
   "outputs": [],
   "source": [
    "clf.intercept_, clf.coef_"
   ]
  },
  {
   "cell_type": "code",
   "execution_count": null,
   "metadata": {},
   "outputs": [],
   "source": [
    "az.plot_trace(logit_trace_1, combined=True, compact=True, var_names=[\"alpha\", \"beta\"], divergences=None);"
   ]
  },
  {
   "cell_type": "code",
   "execution_count": null,
   "metadata": {},
   "outputs": [],
   "source": [
    "logit_trace_1[\"alpha\"].mean(), logit_trace_1[\"beta\"].mean()"
   ]
  },
  {
   "cell_type": "code",
   "execution_count": null,
   "metadata": {},
   "outputs": [],
   "source": [
    "_, ax = plt.subplots(1, 1, figsize=(12, 8))\n",
    "ax.scatter(x_yards, y_probs, label=\"observed\")\n",
    "# ax.plot(\"yardline_100\", \"field_goals_success_percent\", data=df_grp_train, label=\"prediction\", color=\"red\", linestyle=\"dashed\")\n",
    "# ax.plot(x_yards, y_pred_prob[:, 1], label=\"prediction\", color=\"red\", linestyle=\"dotted\")\n",
    "# ax = df_.plot.scatter(x=\"yardline_100\", y=\"field_goals_success_percent\", figsize=(15, 8))\n",
    "az.plot_hpd(X, logit_trace_1[\"p\"], color=\"red\", credible_interval=.5, ax=ax, fill_kwargs={'alpha': .9})\n",
    "az.plot_hpd(X, logit_trace_1[\"p\"], color=\"C2\", ax=ax, fill_kwargs={'alpha': .4})\n",
    "\n",
    "\n",
    "vals = ax.get_yticks()\n",
    "_ = ax.set_yticklabels(['{:,.1%}'.format(x) for x in vals])\n",
    "# ax.set_xscale(\"logit\")\n",
    "\n",
    "# reverse the x axis\n",
    "# ax.set_xlim(ax.get_xlim()[1], 0)\n",
    "# ax.set_xticks(yard_lines_5)\n",
    "# ax.set_xticklabels(yard_lines_5)\n",
    "ax.set_xlabel(\"Yards from Goal Line\")\n",
    "ax.set_ylabel(\"Field Goal Success %\")\n",
    "ax.set_title(\"Field Goal Success % by Yard Line\");"
   ]
  },
  {
   "cell_type": "code",
   "execution_count": null,
   "metadata": {},
   "outputs": [],
   "source": [
    "p = logit_trace_1[\"p\"].mean(axis=0)\n",
    "idx = np.argsort(X)\n",
    "plt.plot(X, p);"
   ]
  },
  {
   "cell_type": "code",
   "execution_count": null,
   "metadata": {},
   "outputs": [],
   "source": [
    "theta"
   ]
  },
  {
   "cell_type": "code",
   "execution_count": null,
   "metadata": {},
   "outputs": [],
   "source": []
  }
 ],
 "metadata": {
  "kernelspec": {
   "display_name": "Python 3",
   "language": "python",
   "name": "python3"
  },
  "language_info": {
   "codemirror_mode": {
    "name": "ipython",
    "version": 3
   },
   "file_extension": ".py",
   "mimetype": "text/x-python",
   "name": "python",
   "nbconvert_exporter": "python",
   "pygments_lexer": "ipython3",
   "version": "3.7.4"
  }
 },
 "nbformat": 4,
 "nbformat_minor": 2
}
