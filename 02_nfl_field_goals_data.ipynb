{
 "cells": [
  {
   "cell_type": "code",
   "execution_count": 25,
   "metadata": {},
   "outputs": [
    {
     "name": "stdout",
     "output_type": "stream",
     "text": [
      "The watermark extension is already loaded. To reload it, use:\n",
      "  %reload_ext watermark\n"
     ]
    }
   ],
   "source": [
    "import numpy as np\n",
    "import pandas as pd\n",
    "import scipy.stats as stats\n",
    "\n",
    "from sklearn import preprocessing\n",
    "\n",
    "from sqlalchemy import create_engine\n",
    "\n",
    "from matplotlib import pylab as plt\n",
    "import seaborn as sns\n",
    "\n",
    "plt.style.use(\"bmh\")\n",
    "\n",
    "import arviz as az\n",
    "\n",
    "%load_ext watermark\n",
    "%matplotlib inline"
   ]
  },
  {
   "cell_type": "code",
   "execution_count": 26,
   "metadata": {},
   "outputs": [
    {
     "name": "stdout",
     "output_type": "stream",
     "text": [
      "matplotlib.pylab 1.17.3\n",
      "numpy            1.17.3\n",
      "scipy            1.3.1\n",
      "seaborn          0.9.0\n",
      "arviz            0.6.0\n",
      "sklearn          0.22\n",
      "pandas           0.25.2\n",
      "last updated: 2020-01-06 11:24:51 PST \n",
      "\n",
      "CPython 3.7.4\n",
      "IPython 7.9.0\n",
      "Git repo: git@github.com:clausherther/nfl-analysis.git\n"
     ]
    }
   ],
   "source": [
    "%watermark -v -d -t -z -u -r -iv"
   ]
  },
  {
   "cell_type": "code",
   "execution_count": 27,
   "metadata": {},
   "outputs": [],
   "source": [
    "url = \"bigquery://nfl\"\n",
    "key_file_path = \"/Users/claus/dev/bigquery-keys/nfl-pbp-bigquery-service-account.json\"\n",
    "engine = create_engine(url, credentials_path=key_file_path, echo=True)"
   ]
  },
  {
   "cell_type": "code",
   "execution_count": 28,
   "metadata": {},
   "outputs": [
    {
     "name": "stdout",
     "output_type": "stream",
     "text": [
      "2020-01-06 11:24:52,703 INFO sqlalchemy.engine.base.Engine select * from analysis.xa_field_goals\n",
      "2020-01-06 11:24:52,703 INFO sqlalchemy.engine.base.Engine {}\n"
     ]
    }
   ],
   "source": [
    "query = \"select * from analysis.xa_field_goals\"\n",
    "with engine.connect() as con:\n",
    "    df = pd.read_sql(query, con)"
   ]
  },
  {
   "cell_type": "code",
   "execution_count": 29,
   "metadata": {},
   "outputs": [
    {
     "data": {
      "text/html": [
       "<div>\n",
       "<style scoped>\n",
       "    .dataframe tbody tr th:only-of-type {\n",
       "        vertical-align: middle;\n",
       "    }\n",
       "\n",
       "    .dataframe tbody tr th {\n",
       "        vertical-align: top;\n",
       "    }\n",
       "\n",
       "    .dataframe thead th {\n",
       "        text-align: right;\n",
       "    }\n",
       "</style>\n",
       "<table border=\"1\" class=\"dataframe\">\n",
       "  <thead>\n",
       "    <tr style=\"text-align: right;\">\n",
       "      <th></th>\n",
       "      <th>play_key</th>\n",
       "      <th>game_date</th>\n",
       "      <th>game_id</th>\n",
       "      <th>play_id</th>\n",
       "      <th>season_nbr</th>\n",
       "      <th>season_type_code</th>\n",
       "      <th>season_code</th>\n",
       "      <th>quarter</th>\n",
       "      <th>down</th>\n",
       "      <th>play_type</th>\n",
       "      <th>...</th>\n",
       "      <th>kick_distance_yards</th>\n",
       "      <th>is_within_goal_line</th>\n",
       "      <th>field_goal_result</th>\n",
       "      <th>is_field_goal_success</th>\n",
       "      <th>field_goals</th>\n",
       "      <th>successful_field_goals</th>\n",
       "      <th>kick_angle_horizontal</th>\n",
       "      <th>kick_angle_vertical</th>\n",
       "      <th>kick_angle_horizontal_degrees</th>\n",
       "      <th>kick_angle_vertical_degrees</th>\n",
       "    </tr>\n",
       "  </thead>\n",
       "  <tbody>\n",
       "    <tr>\n",
       "      <th>0</th>\n",
       "      <td>210b18c13f0bac908eddce02ed54331a</td>\n",
       "      <td>2015-09-10</td>\n",
       "      <td>2015091000</td>\n",
       "      <td>285</td>\n",
       "      <td>2015</td>\n",
       "      <td>REG</td>\n",
       "      <td>REG2015</td>\n",
       "      <td>1</td>\n",
       "      <td>4</td>\n",
       "      <td>field_goal</td>\n",
       "      <td>...</td>\n",
       "      <td>44.0</td>\n",
       "      <td>False</td>\n",
       "      <td>missed</td>\n",
       "      <td>False</td>\n",
       "      <td>1</td>\n",
       "      <td>0</td>\n",
       "      <td>0.136807</td>\n",
       "      <td>0.259187</td>\n",
       "      <td>7.838475</td>\n",
       "      <td>14.850338</td>\n",
       "    </tr>\n",
       "    <tr>\n",
       "      <th>1</th>\n",
       "      <td>972bc368c29d6c173827b5a3db7cd384</td>\n",
       "      <td>2015-09-10</td>\n",
       "      <td>2015091000</td>\n",
       "      <td>1208</td>\n",
       "      <td>2015</td>\n",
       "      <td>REG</td>\n",
       "      <td>REG2015</td>\n",
       "      <td>2</td>\n",
       "      <td>4</td>\n",
       "      <td>field_goal</td>\n",
       "      <td>...</td>\n",
       "      <td>46.0</td>\n",
       "      <td>False</td>\n",
       "      <td>missed</td>\n",
       "      <td>False</td>\n",
       "      <td>1</td>\n",
       "      <td>0</td>\n",
       "      <td>0.131124</td>\n",
       "      <td>0.248386</td>\n",
       "      <td>7.512839</td>\n",
       "      <td>14.231458</td>\n",
       "    </tr>\n",
       "    <tr>\n",
       "      <th>2</th>\n",
       "      <td>be0fe604388ace9230c0d0e86a2f047f</td>\n",
       "      <td>2015-09-10</td>\n",
       "      <td>2015091000</td>\n",
       "      <td>1852</td>\n",
       "      <td>2015</td>\n",
       "      <td>REG</td>\n",
       "      <td>REG2015</td>\n",
       "      <td>2</td>\n",
       "      <td>4</td>\n",
       "      <td>field_goal</td>\n",
       "      <td>...</td>\n",
       "      <td>44.0</td>\n",
       "      <td>False</td>\n",
       "      <td>made</td>\n",
       "      <td>True</td>\n",
       "      <td>1</td>\n",
       "      <td>1</td>\n",
       "      <td>0.136807</td>\n",
       "      <td>0.259187</td>\n",
       "      <td>7.838475</td>\n",
       "      <td>14.850338</td>\n",
       "    </tr>\n",
       "    <tr>\n",
       "      <th>3</th>\n",
       "      <td>9947063607db959ca88d44812ab88363</td>\n",
       "      <td>2015-09-10</td>\n",
       "      <td>2015091000</td>\n",
       "      <td>2879</td>\n",
       "      <td>2015</td>\n",
       "      <td>REG</td>\n",
       "      <td>REG2015</td>\n",
       "      <td>4</td>\n",
       "      <td>4</td>\n",
       "      <td>field_goal</td>\n",
       "      <td>...</td>\n",
       "      <td>24.0</td>\n",
       "      <td>True</td>\n",
       "      <td>made</td>\n",
       "      <td>True</td>\n",
       "      <td>1</td>\n",
       "      <td>1</td>\n",
       "      <td>0.237672</td>\n",
       "      <td>0.452475</td>\n",
       "      <td>13.617600</td>\n",
       "      <td>25.924902</td>\n",
       "    </tr>\n",
       "    <tr>\n",
       "      <th>4</th>\n",
       "      <td>997a7e9ccc32cc4471a18b22f70490a2</td>\n",
       "      <td>2011-08-15</td>\n",
       "      <td>2011081551</td>\n",
       "      <td>301</td>\n",
       "      <td>2011</td>\n",
       "      <td>PRE</td>\n",
       "      <td>PRE2011</td>\n",
       "      <td>1</td>\n",
       "      <td>4</td>\n",
       "      <td>field_goal</td>\n",
       "      <td>...</td>\n",
       "      <td>33.0</td>\n",
       "      <td>False</td>\n",
       "      <td>made</td>\n",
       "      <td>True</td>\n",
       "      <td>1</td>\n",
       "      <td>1</td>\n",
       "      <td>0.179119</td>\n",
       "      <td>0.339821</td>\n",
       "      <td>10.262784</td>\n",
       "      <td>19.470302</td>\n",
       "    </tr>\n",
       "  </tbody>\n",
       "</table>\n",
       "<p>5 rows × 28 columns</p>\n",
       "</div>"
      ],
      "text/plain": [
       "                           play_key   game_date     game_id  play_id  \\\n",
       "0  210b18c13f0bac908eddce02ed54331a  2015-09-10  2015091000      285   \n",
       "1  972bc368c29d6c173827b5a3db7cd384  2015-09-10  2015091000     1208   \n",
       "2  be0fe604388ace9230c0d0e86a2f047f  2015-09-10  2015091000     1852   \n",
       "3  9947063607db959ca88d44812ab88363  2015-09-10  2015091000     2879   \n",
       "4  997a7e9ccc32cc4471a18b22f70490a2  2011-08-15  2011081551      301   \n",
       "\n",
       "   season_nbr season_type_code season_code  quarter  down   play_type  ...  \\\n",
       "0        2015              REG     REG2015        1     4  field_goal  ...   \n",
       "1        2015              REG     REG2015        2     4  field_goal  ...   \n",
       "2        2015              REG     REG2015        2     4  field_goal  ...   \n",
       "3        2015              REG     REG2015        4     4  field_goal  ...   \n",
       "4        2011              PRE     PRE2011        1     4  field_goal  ...   \n",
       "\n",
       "  kick_distance_yards is_within_goal_line field_goal_result  \\\n",
       "0                44.0               False            missed   \n",
       "1                46.0               False            missed   \n",
       "2                44.0               False              made   \n",
       "3                24.0                True              made   \n",
       "4                33.0               False              made   \n",
       "\n",
       "  is_field_goal_success field_goals successful_field_goals  \\\n",
       "0                 False           1                      0   \n",
       "1                 False           1                      0   \n",
       "2                  True           1                      1   \n",
       "3                  True           1                      1   \n",
       "4                  True           1                      1   \n",
       "\n",
       "   kick_angle_horizontal  kick_angle_vertical  kick_angle_horizontal_degrees  \\\n",
       "0               0.136807             0.259187                       7.838475   \n",
       "1               0.131124             0.248386                       7.512839   \n",
       "2               0.136807             0.259187                       7.838475   \n",
       "3               0.237672             0.452475                      13.617600   \n",
       "4               0.179119             0.339821                      10.262784   \n",
       "\n",
       "   kick_angle_vertical_degrees  \n",
       "0                    14.850338  \n",
       "1                    14.231458  \n",
       "2                    14.850338  \n",
       "3                    25.924902  \n",
       "4                    19.470302  \n",
       "\n",
       "[5 rows x 28 columns]"
      ]
     },
     "execution_count": 29,
     "metadata": {},
     "output_type": "execute_result"
    }
   ],
   "source": [
    "df.head()"
   ]
  },
  {
   "cell_type": "code",
   "execution_count": 33,
   "metadata": {},
   "outputs": [],
   "source": [
    "df[\"game_date\"] = pd.to_datetime(df[\"game_date\"])"
   ]
  },
  {
   "cell_type": "code",
   "execution_count": 34,
   "metadata": {},
   "outputs": [
    {
     "name": "stdout",
     "output_type": "stream",
     "text": [
      "<class 'pandas.core.frame.DataFrame'>\n",
      "RangeIndex: 13579 entries, 0 to 13578\n",
      "Data columns (total 28 columns):\n",
      "play_key                         13579 non-null object\n",
      "game_date                        13579 non-null datetime64[ns]\n",
      "game_id                          13579 non-null int64\n",
      "play_id                          13579 non-null int64\n",
      "season_nbr                       13579 non-null int64\n",
      "season_type_code                 13579 non-null object\n",
      "season_code                      13579 non-null object\n",
      "quarter                          13579 non-null int64\n",
      "down                             13579 non-null int64\n",
      "play_type                        13579 non-null object\n",
      "home_team_code                   13579 non-null object\n",
      "away_team_code                   13579 non-null object\n",
      "off_team_code                    13579 non-null object\n",
      "def_team_code                    13579 non-null object\n",
      "kicker_player_id                 13579 non-null object\n",
      "kicker_player_name               13576 non-null object\n",
      "yards_to_go                      13579 non-null int64\n",
      "yardline_100                     13579 non-null int64\n",
      "kick_distance_yards              13579 non-null float64\n",
      "is_within_goal_line              13579 non-null bool\n",
      "field_goal_result                13579 non-null object\n",
      "is_field_goal_success            13579 non-null bool\n",
      "field_goals                      13579 non-null int64\n",
      "successful_field_goals           13579 non-null int64\n",
      "kick_angle_horizontal            13579 non-null float64\n",
      "kick_angle_vertical              13579 non-null float64\n",
      "kick_angle_horizontal_degrees    13579 non-null float64\n",
      "kick_angle_vertical_degrees      13579 non-null float64\n",
      "dtypes: bool(2), datetime64[ns](1), float64(5), int64(9), object(11)\n",
      "memory usage: 2.7+ MB\n"
     ]
    }
   ],
   "source": [
    "df.info()"
   ]
  },
  {
   "cell_type": "code",
   "execution_count": 35,
   "metadata": {},
   "outputs": [],
   "source": [
    "df.to_hdf(\"data/field_goals.hd5\", \"field_goals\")"
   ]
  },
  {
   "cell_type": "markdown",
   "metadata": {},
   "source": [
    "Baseline Field Goal % is:"
   ]
  },
  {
   "cell_type": "code",
   "execution_count": 9,
   "metadata": {},
   "outputs": [
    {
     "data": {
      "text/plain": [
       "0.8338611090654687"
      ]
     },
     "execution_count": 9,
     "metadata": {},
     "output_type": "execute_result"
    }
   ],
   "source": [
    "df[\"successful_field_goals\"].sum()/df[\"field_goals\"].sum()"
   ]
  },
  {
   "cell_type": "code",
   "execution_count": 10,
   "metadata": {},
   "outputs": [
    {
     "data": {
      "image/png": "[encoded data removed]",
      "text/plain": [
       "<Figure size 432x288 with 1 Axes>"
      ]
     },
     "metadata": {
      "needs_background": "light"
     },
     "output_type": "display_data"
    }
   ],
   "source": [
    "sns.distplot(df[\"kick_distance_yards\"], bins=30, hist=False, color=\"grey\", kde_kws={\"linestyle\":\"dotted\"})\n",
    "sns.distplot(df[df[\"is_field_goal_success\"]==False][\"kick_distance_yards\"], bins=30, hist=False, color=\"red\", label=\"Failed\");\n",
    "sns.distplot(df[df[\"is_field_goal_success\"]==True][\"kick_distance_yards\"], bins=30, hist=False, color=\"green\", label=\"Success\");"
   ]
  },
  {
   "cell_type": "code",
   "execution_count": 11,
   "metadata": {},
   "outputs": [],
   "source": [
    "df_grp_yards = pd.DataFrame(\n",
    "    df\n",
    "#      .query(\"yardline_100 < 47\")\n",
    "     .groupby(\"yardline_100\")[[\"field_goals\", \"successful_field_goals\"]]\n",
    "     .sum()\n",
    "     .reset_index()\n",
    "    ,\n",
    "#     columns=[\"yardline_100\", \"field_goals_success_percent\"]\n",
    ")\n",
    "df_grp_yards[\"field_goals_success_percent\"] = df_grp_yards[\"successful_field_goals\"]/df_grp_yards[\"field_goals\"]"
   ]
  },
  {
   "cell_type": "code",
   "execution_count": 17,
   "metadata": {},
   "outputs": [
    {
     "data": {
      "text/html": [
       "<div>\n",
       "<style scoped>\n",
       "    .dataframe tbody tr th:only-of-type {\n",
       "        vertical-align: middle;\n",
       "    }\n",
       "\n",
       "    .dataframe tbody tr th {\n",
       "        vertical-align: top;\n",
       "    }\n",
       "\n",
       "    .dataframe thead th {\n",
       "        text-align: right;\n",
       "    }\n",
       "</style>\n",
       "<table border=\"1\" class=\"dataframe\">\n",
       "  <thead>\n",
       "    <tr style=\"text-align: right;\">\n",
       "      <th></th>\n",
       "      <th>yardline_100</th>\n",
       "      <th>field_goals</th>\n",
       "      <th>successful_field_goals</th>\n",
       "      <th>field_goals_success_percent</th>\n",
       "    </tr>\n",
       "  </thead>\n",
       "  <tbody>\n",
       "    <tr>\n",
       "      <th>0</th>\n",
       "      <td>1</td>\n",
       "      <td>144</td>\n",
       "      <td>144</td>\n",
       "      <td>1.000000</td>\n",
       "    </tr>\n",
       "    <tr>\n",
       "      <th>1</th>\n",
       "      <td>2</td>\n",
       "      <td>261</td>\n",
       "      <td>259</td>\n",
       "      <td>0.992337</td>\n",
       "    </tr>\n",
       "    <tr>\n",
       "      <th>2</th>\n",
       "      <td>3</td>\n",
       "      <td>302</td>\n",
       "      <td>296</td>\n",
       "      <td>0.980132</td>\n",
       "    </tr>\n",
       "    <tr>\n",
       "      <th>3</th>\n",
       "      <td>4</td>\n",
       "      <td>321</td>\n",
       "      <td>315</td>\n",
       "      <td>0.981308</td>\n",
       "    </tr>\n",
       "    <tr>\n",
       "      <th>4</th>\n",
       "      <td>5</td>\n",
       "      <td>373</td>\n",
       "      <td>367</td>\n",
       "      <td>0.983914</td>\n",
       "    </tr>\n",
       "    <tr>\n",
       "      <th>5</th>\n",
       "      <td>6</td>\n",
       "      <td>298</td>\n",
       "      <td>285</td>\n",
       "      <td>0.956376</td>\n",
       "    </tr>\n",
       "    <tr>\n",
       "      <th>6</th>\n",
       "      <td>7</td>\n",
       "      <td>351</td>\n",
       "      <td>347</td>\n",
       "      <td>0.988604</td>\n",
       "    </tr>\n",
       "    <tr>\n",
       "      <th>7</th>\n",
       "      <td>8</td>\n",
       "      <td>334</td>\n",
       "      <td>322</td>\n",
       "      <td>0.964072</td>\n",
       "    </tr>\n",
       "    <tr>\n",
       "      <th>8</th>\n",
       "      <td>9</td>\n",
       "      <td>360</td>\n",
       "      <td>347</td>\n",
       "      <td>0.963889</td>\n",
       "    </tr>\n",
       "    <tr>\n",
       "      <th>9</th>\n",
       "      <td>10</td>\n",
       "      <td>404</td>\n",
       "      <td>386</td>\n",
       "      <td>0.955446</td>\n",
       "    </tr>\n",
       "  </tbody>\n",
       "</table>\n",
       "</div>"
      ],
      "text/plain": [
       "   yardline_100  field_goals  successful_field_goals  \\\n",
       "0             1          144                     144   \n",
       "1             2          261                     259   \n",
       "2             3          302                     296   \n",
       "3             4          321                     315   \n",
       "4             5          373                     367   \n",
       "5             6          298                     285   \n",
       "6             7          351                     347   \n",
       "7             8          334                     322   \n",
       "8             9          360                     347   \n",
       "9            10          404                     386   \n",
       "\n",
       "   field_goals_success_percent  \n",
       "0                     1.000000  \n",
       "1                     0.992337  \n",
       "2                     0.980132  \n",
       "3                     0.981308  \n",
       "4                     0.983914  \n",
       "5                     0.956376  \n",
       "6                     0.988604  \n",
       "7                     0.964072  \n",
       "8                     0.963889  \n",
       "9                     0.955446  "
      ]
     },
     "execution_count": 17,
     "metadata": {},
     "output_type": "execute_result"
    }
   ],
   "source": [
    "df_grp_yards.head(10)"
   ]
  },
  {
   "cell_type": "code",
   "execution_count": 13,
   "metadata": {},
   "outputs": [
    {
     "data": {
      "text/plain": [
       "0.8338611090654687"
      ]
     },
     "execution_count": 13,
     "metadata": {},
     "output_type": "execute_result"
    }
   ],
   "source": [
    "df_grp_yards[\"successful_field_goals\"].sum()/df_grp_yards[\"field_goals\"].sum()"
   ]
  },
  {
   "cell_type": "code",
   "execution_count": 14,
   "metadata": {},
   "outputs": [],
   "source": [
    "yard_int = 5\n",
    "yard_lines_5 = list(range(yard_int, 100+yard_int, yard_int))\n",
    "yard_lines = list(range(1, 100+1, 1))"
   ]
  },
  {
   "cell_type": "code",
   "execution_count": 15,
   "metadata": {},
   "outputs": [],
   "source": [
    "x_yards = df_grp_yards[\"yardline_100\"]\n",
    "y_probs = df_grp_yards[\"field_goals_success_percent\"]"
   ]
  },
  {
   "cell_type": "code",
   "execution_count": 21,
   "metadata": {},
   "outputs": [],
   "source": [
    "df_yard_lines = pd.DataFrame(yard_lines, columns=[\"yardline_100\"])"
   ]
  },
  {
   "cell_type": "code",
   "execution_count": 22,
   "metadata": {},
   "outputs": [],
   "source": [
    "df_grp_yards_expanded = df_yard_lines.merge(df_grp_yards, how=\"left\").fillna(0)"
   ]
  },
  {
   "cell_type": "code",
   "execution_count": 23,
   "metadata": {},
   "outputs": [
    {
     "data": {
      "text/plain": [
       "(100, 4)"
      ]
     },
     "execution_count": 23,
     "metadata": {},
     "output_type": "execute_result"
    }
   ],
   "source": [
    "df_grp_yards_expanded.shape"
   ]
  },
  {
   "cell_type": "code",
   "execution_count": 24,
   "metadata": {},
   "outputs": [
    {
     "data": {
      "image/png": "[encoded data removed]",
      "text/plain": [
       "<Figure size 1368x576 with 2 Axes>"
      ]
     },
     "metadata": {
      "needs_background": "light"
     },
     "output_type": "display_data"
    }
   ],
   "source": [
    "_, ax = plt.subplots(1, 1, figsize=(19, 8))\n",
    "\n",
    "fmt=\".0%\"\n",
    "sns.heatmap(\n",
    "        df_grp_yards_expanded[[\"field_goals_success_percent\"]].T.values,\n",
    "        cmap=\"RdYlGn\", \n",
    "        cbar=True,\n",
    "#         vmin=0, vmax=1,\n",
    "        alpha=.8,\n",
    "        ax=ax\n",
    "    )\n",
    "# yards_10\n",
    "ax.set_xticks(yard_lines_5)\n",
    "ax.set_xticklabels(yard_lines_5)\n",
    "ax.set_yticklabels(\"\")\n",
    "ax.vlines(yard_lines_5, 0, 1, linestyles=\"solid\", alpha=1, color=\"white\")\n",
    "cbar = ax.collections[0].colorbar\n",
    "vals = np.arange(0, 1.1, 0.1)\n",
    "cbar.set_ticks(vals)\n",
    "cbar.set_ticklabels([f\"{x:,.0%}\" for x in vals])\n",
    "\n",
    "ax.set_xlim(ax.get_xlim()[1], 0)\n",
    "ax.set_title(\"Field Goal Success % by Yard Line\");\n",
    "# plt.tight_layout();"
   ]
  },
  {
   "cell_type": "code",
   "execution_count": null,
   "metadata": {},
   "outputs": [],
   "source": []
  },
  {
   "cell_type": "code",
   "execution_count": null,
   "metadata": {},
   "outputs": [],
   "source": []
  }
 ],
 "metadata": {
  "kernelspec": {
   "display_name": "Python 3",
   "language": "python",
   "name": "python3"
  },
  "language_info": {
   "codemirror_mode": {
    "name": "ipython",
    "version": 3
   },
   "file_extension": ".py",
   "mimetype": "text/x-python",
   "name": "python",
   "nbconvert_exporter": "python",
   "pygments_lexer": "ipython3",
   "version": "3.7.4"
  }
 },
 "nbformat": 4,
 "nbformat_minor": 2
}
